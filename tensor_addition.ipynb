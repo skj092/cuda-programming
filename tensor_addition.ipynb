{
  "nbformat": 4,
  "nbformat_minor": 0,
  "metadata": {
    "colab": {
      "provenance": [],
      "gpuType": "T4",
      "authorship_tag": "ABX9TyMWQDDQ17G8CMNMjMWI4vKB",
      "include_colab_link": true
    },
    "kernelspec": {
      "name": "python3",
      "display_name": "Python 3"
    },
    "language_info": {
      "name": "python"
    },
    "accelerator": "GPU"
  },
  "cells": [
    {
      "cell_type": "markdown",
      "metadata": {
        "id": "view-in-github",
        "colab_type": "text"
      },
      "source": [
        "<a href=\"https://colab.research.google.com/github/skj092/cuda-programming/blob/main/tensor_addition.ipynb\" target=\"_parent\"><img src=\"https://colab.research.google.com/assets/colab-badge.svg\" alt=\"Open In Colab\"/></a>"
      ]
    },
    {
      "cell_type": "code",
      "source": [
        "import torch, os, math, gzip, pickle\n",
        "import matplotlib.pyplot as plt\n",
        "from urllib.request import urlretrieve\n",
        "from pathlib import Path\n",
        "\n",
        "from torch import tensor\n",
        "import torchvision as tv\n",
        "import torchvision.transforms.functional as tvf\n",
        "from torchvision import io\n",
        "from torch.utils.cpp_extension import load_inline"
      ],
      "metadata": {
        "id": "L797FL0vkgT6"
      },
      "execution_count": 1,
      "outputs": []
    },
    {
      "cell_type": "markdown",
      "source": [
        "## Vector Addition"
      ],
      "metadata": {
        "id": "87B-n49Skw_K"
      }
    },
    {
      "cell_type": "code",
      "source": [
        "def kernal(x, y, res, times):\n",
        "  for i in range(times):\n",
        "    res[i] = x[i] + y[i]"
      ],
      "metadata": {
        "id": "FFNCc0VZqDnt"
      },
      "execution_count": 2,
      "outputs": []
    },
    {
      "cell_type": "code",
      "source": [
        "def add(x, y):\n",
        "  h, w = x.shape\n",
        "  z = torch.zeros(h*w)\n",
        "  x = x.view(-1)\n",
        "  y = y.view(-1)\n",
        "  threads = 256\n",
        "  kernal(x, y, z, h*w)\n",
        "  return z.view(h, w)"
      ],
      "metadata": {
        "id": "w7x_DQXJpM7r"
      },
      "execution_count": 3,
      "outputs": []
    },
    {
      "cell_type": "code",
      "source": [
        "h, w = 5*4**3, 5*4**3\n",
        "a = torch.rand((h, w))\n",
        "b = torch.rand((h, w))"
      ],
      "metadata": {
        "id": "SYeLsAHMmosC"
      },
      "execution_count": 4,
      "outputs": []
    },
    {
      "cell_type": "code",
      "source": [
        "%%time\n",
        "\n",
        "c = add(a, b)"
      ],
      "metadata": {
        "colab": {
          "base_uri": "https://localhost:8080/"
        },
        "id": "HH-oPRh_6_ol",
        "outputId": "bfebb19d-60b4-464c-96b3-618672840de4"
      },
      "execution_count": 5,
      "outputs": [
        {
          "output_type": "stream",
          "name": "stdout",
          "text": [
            "CPU times: user 979 ms, sys: 4.65 ms, total: 983 ms\n",
            "Wall time: 1.02 s\n"
          ]
        }
      ]
    },
    {
      "cell_type": "markdown",
      "source": [
        "# Using block and thread"
      ],
      "metadata": {
        "id": "HfyZ4hSl65Dw"
      }
    },
    {
      "cell_type": "code",
      "source": [
        "def blk_kernal(f, blocks, threads, *args):\n",
        "  for i in range(blocks):\n",
        "    for j in range(threads):\n",
        "      f(i, j, threads, *args)"
      ],
      "metadata": {
        "id": "I9RBSCXw68Lm"
      },
      "execution_count": 6,
      "outputs": []
    },
    {
      "cell_type": "code",
      "source": [
        "def adder(blockidx, threadidx, blockdim, x, y, res, n):\n",
        "    i = blockidx*blockdim + threadidx\n",
        "    if i<n: res[i] = x[i] + y[i]"
      ],
      "metadata": {
        "id": "Vezj44G07JKU"
      },
      "execution_count": 7,
      "outputs": []
    },
    {
      "cell_type": "code",
      "source": [
        "def add(x, y):\n",
        "  h, w = x.shape\n",
        "  res = torch.empty(h*w)\n",
        "  x = x.view(-1)\n",
        "  y = y.view(-1)\n",
        "  n = h * w\n",
        "  threads = 256\n",
        "  blocks = int(math.ceil(h*w/threads))\n",
        "  blk_kernal(adder, blocks, threads, x, y, res, n)\n",
        "  return res.view(h, w)"
      ],
      "metadata": {
        "id": "-JSYEls067rw"
      },
      "execution_count": 8,
      "outputs": []
    },
    {
      "cell_type": "code",
      "source": [
        "%%time\n",
        "\n",
        "c = add(a, b)"
      ],
      "metadata": {
        "colab": {
          "base_uri": "https://localhost:8080/"
        },
        "id": "xly9pzqJmohZ",
        "outputId": "d83510d5-8f3c-4ae7-e3d3-471378ea2fd7"
      },
      "execution_count": 9,
      "outputs": [
        {
          "output_type": "stream",
          "name": "stdout",
          "text": [
            "CPU times: user 1.42 s, sys: 3.35 ms, total: 1.42 s\n",
            "Wall time: 1.47 s\n"
          ]
        }
      ]
    },
    {
      "cell_type": "markdown",
      "source": [
        "# Using CUDA"
      ],
      "metadata": {
        "id": "3jzvKkDZ9lU3"
      }
    },
    {
      "cell_type": "code",
      "execution_count": 10,
      "metadata": {
        "id": "Eziy5fYpkQVq"
      },
      "outputs": [],
      "source": [
        "os.environ['CUDA_LAUNCH_BLOCKING']='1'"
      ]
    },
    {
      "cell_type": "code",
      "source": [
        "%pip install -q wurlitzer ninja"
      ],
      "metadata": {
        "id": "VJqwYdVlkaZ_",
        "colab": {
          "base_uri": "https://localhost:8080/"
        },
        "outputId": "a5785c30-b799-44b6-f0eb-1d0da2a42695"
      },
      "execution_count": 11,
      "outputs": [
        {
          "output_type": "stream",
          "name": "stdout",
          "text": [
            "\u001b[?25l     \u001b[90m━━━━━━━━━━━━━━━━━━━━━━━━━━━━━━━━━━━━━━━━\u001b[0m \u001b[32m0.0/307.2 kB\u001b[0m \u001b[31m?\u001b[0m eta \u001b[36m-:--:--\u001b[0m\r\u001b[2K     \u001b[91m━━━━━━━━━━━━━━━━━━━━━━━━━━━━━━━━━━━━━━\u001b[0m\u001b[91m╸\u001b[0m\u001b[90m━\u001b[0m \u001b[32m297.0/307.2 kB\u001b[0m \u001b[31m9.5 MB/s\u001b[0m eta \u001b[36m0:00:01\u001b[0m\r\u001b[2K     \u001b[90m━━━━━━━━━━━━━━━━━━━━━━━━━━━━━━━━━━━━━━━━\u001b[0m \u001b[32m307.2/307.2 kB\u001b[0m \u001b[31m7.4 MB/s\u001b[0m eta \u001b[36m0:00:00\u001b[0m\n",
            "\u001b[?25h"
          ]
        }
      ]
    },
    {
      "cell_type": "code",
      "source": [
        "%load_ext wurlitzer"
      ],
      "metadata": {
        "id": "QHTWcwDIkb3U"
      },
      "execution_count": 12,
      "outputs": []
    },
    {
      "cell_type": "code",
      "source": [
        "def load_cuda(cuda_src, cpp_src, funcs, opt=False, verbose=False):\n",
        "    return load_inline(cuda_sources=[cuda_src], cpp_sources=[cpp_src], functions=funcs,\n",
        "                       extra_cuda_cflags=[\"-O2\"] if opt else [], verbose=verbose, name=\"inline_ext\")"
      ],
      "metadata": {
        "id": "iKtYelJEkc8L"
      },
      "execution_count": 13,
      "outputs": []
    },
    {
      "cell_type": "code",
      "source": [
        "cuda_begin = r'''\n",
        "#include <torch/extension.h>\n",
        "#include <stdio.h>\n",
        "#include <c10/cuda/CUDAException.h>\n",
        "\n",
        "#define CHECK_CUDA(x) TORCH_CHECK(x.device().is_cuda(), #x \" must be a CUDA tensor\")\n",
        "#define CHECK_CONTIGUOUS(x) TORCH_CHECK(x.is_contiguous(), #x \" must be contiguous\")\n",
        "#define CHECK_INPUT(x) CHECK_CUDA(x); CHECK_CONTIGUOUS(x)\n",
        "\n",
        "inline unsigned int cdiv(unsigned int a, unsigned int b) { return (a + b - 1) / b;}\n",
        "'''"
      ],
      "metadata": {
        "id": "R_cv91Lakiss"
      },
      "execution_count": 16,
      "outputs": []
    },
    {
      "cell_type": "code",
      "source": [
        "cuda_src = cuda_begin + r'''\n",
        "__global__ void add_tensors_cuda_kernel(float *a, float *b, float *out, int n) {\n",
        "  int index = blockIdx.x * blockDim.x + threadIdx.x;\n",
        "  if (index < n) {\n",
        "    out[index] = a[index] + b[index];\n",
        "  }\n",
        "}\n",
        "\n",
        "torch::Tensor add_tensors_cuda(torch::Tensor tensor1, torch::Tensor tensor2) {\n",
        "  CHECK_INPUT(tensor1);\n",
        "  CHECK_INPUT(tensor2);\n",
        "  AT_ASSERTM(tensor1.sizes() == tensor2.sizes(), \"tensors must have the same size\");\n",
        "\n",
        "  auto n = tensor1.numel();\n",
        "  auto result = torch::empty_like(tensor1);\n",
        "\n",
        "  const int threads = 256;\n",
        "  const int blocks = cdiv(n, (unsigned int)threads);\n",
        "\n",
        "  add_tensors_cuda_kernel<<<blocks, threads>>>(\n",
        "    tensor1.data_ptr<float>(),\n",
        "    tensor2.data_ptr<float>(),\n",
        "    result.data_ptr<float>(),\n",
        "    n\n",
        "  );\n",
        "\n",
        "  return result;\n",
        "}\n",
        "\n",
        "'''"
      ],
      "metadata": {
        "id": "NMxYKz-KkkNm"
      },
      "execution_count": 23,
      "outputs": []
    },
    {
      "cell_type": "code",
      "source": [
        "cpp_src = \"torch::Tensor add_tensors_cuda(torch::Tensor tensor1, torch::Tensor tensor2);\""
      ],
      "metadata": {
        "id": "m33LdMs-kluE"
      },
      "execution_count": 24,
      "outputs": []
    },
    {
      "cell_type": "code",
      "source": [
        "module = load_cuda(cuda_src, cpp_src, ['add_tensors_cuda'], verbose=True)"
      ],
      "metadata": {
        "colab": {
          "base_uri": "https://localhost:8080/"
        },
        "id": "qm6lxbXMknL5",
        "outputId": "31e4ebe3-990f-45dc-c1cb-a2f24d251047"
      },
      "execution_count": 25,
      "outputs": [
        {
          "output_type": "stream",
          "name": "stderr",
          "text": [
            "Using /root/.cache/torch_extensions/py310_cu121 as PyTorch extensions root...\n",
            "The input conditions for extension module inline_ext have changed. Bumping to version 2 and re-building as inline_ext_v2...\n",
            "Detected CUDA files, patching ldflags\n",
            "Emitting ninja build file /root/.cache/torch_extensions/py310_cu121/inline_ext/build.ninja...\n",
            "/usr/local/lib/python3.10/dist-packages/torch/utils/cpp_extension.py:1967: UserWarning: TORCH_CUDA_ARCH_LIST is not set, all archs for visible cards are included for compilation. \n",
            "If this is not desired, please set os.environ['TORCH_CUDA_ARCH_LIST'].\n",
            "  warnings.warn(\n",
            "Building extension module inline_ext_v2...\n",
            "Allowing ninja to set a default number of workers... (overridable by setting the environment variable MAX_JOBS=N)\n"
          ]
        },
        {
          "output_type": "stream",
          "name": "stdout",
          "text": [
            "[1/3] c++ -MMD -MF main.o.d -DTORCH_EXTENSION_NAME=inline_ext_v2 -DTORCH_API_INCLUDE_EXTENSION_H -DPYBIND11_COMPILER_TYPE=\\\"_gcc\\\" -DPYBIND11_STDLIB=\\\"_libstdcpp\\\" -DPYBIND11_BUILD_ABI=\\\"_cxxabi1011\\\" -isystem /usr/local/lib/python3.10/dist-packages/torch/include -isystem /usr/local/lib/python3.10/dist-packages/torch/include/torch/csrc/api/include -isystem /usr/local/lib/python3.10/dist-packages/torch/include/TH -isystem /usr/local/lib/python3.10/dist-packages/torch/include/THC -isystem /usr/local/cuda/include -isystem /usr/include/python3.10 -D_GLIBCXX_USE_CXX11_ABI=0 -fPIC -std=c++17 -c /root/.cache/torch_extensions/py310_cu121/inline_ext/main.cpp -o main.o \n",
            "[2/3] /usr/local/cuda/bin/nvcc --generate-dependencies-with-compile --dependency-output cuda.cuda.o.d -DTORCH_EXTENSION_NAME=inline_ext_v2 -DTORCH_API_INCLUDE_EXTENSION_H -DPYBIND11_COMPILER_TYPE=\\\"_gcc\\\" -DPYBIND11_STDLIB=\\\"_libstdcpp\\\" -DPYBIND11_BUILD_ABI=\\\"_cxxabi1011\\\" -isystem /usr/local/lib/python3.10/dist-packages/torch/include -isystem /usr/local/lib/python3.10/dist-packages/torch/include/torch/csrc/api/include -isystem /usr/local/lib/python3.10/dist-packages/torch/include/TH -isystem /usr/local/lib/python3.10/dist-packages/torch/include/THC -isystem /usr/local/cuda/include -isystem /usr/include/python3.10 -D_GLIBCXX_USE_CXX11_ABI=0 -D__CUDA_NO_HALF_OPERATORS__ -D__CUDA_NO_HALF_CONVERSIONS__ -D__CUDA_NO_BFLOAT16_CONVERSIONS__ -D__CUDA_NO_HALF2_OPERATORS__ --expt-relaxed-constexpr -gencode=arch=compute_75,code=compute_75 -gencode=arch=compute_75,code=sm_75 --compiler-options '-fPIC' -std=c++17 -c /root/.cache/torch_extensions/py310_cu121/inline_ext/cuda.cu -o cuda.cuda.o \n",
            "[3/3] c++ main.o cuda.cuda.o -shared -L/usr/local/lib/python3.10/dist-packages/torch/lib -lc10 -lc10_cuda -ltorch_cpu -ltorch_cuda -ltorch -ltorch_python -L/usr/local/cuda/lib64 -lcudart -o inline_ext_v2.so\n"
          ]
        },
        {
          "output_type": "stream",
          "name": "stderr",
          "text": [
            "Loading extension module inline_ext_v2...\n"
          ]
        }
      ]
    },
    {
      "cell_type": "code",
      "source": [
        "dir(module)"
      ],
      "metadata": {
        "id": "U2H0_YCpkos8",
        "colab": {
          "base_uri": "https://localhost:8080/"
        },
        "outputId": "ed8e2fdd-6f7c-40bf-adfc-34a2e1c3498b"
      },
      "execution_count": 26,
      "outputs": [
        {
          "output_type": "execute_result",
          "data": {
            "text/plain": [
              "['__doc__',\n",
              " '__file__',\n",
              " '__loader__',\n",
              " '__name__',\n",
              " '__package__',\n",
              " '__spec__',\n",
              " 'add_tensors_cuda']"
            ]
          },
          "metadata": {},
          "execution_count": 26
        }
      ]
    },
    {
      "cell_type": "code",
      "source": [
        "%%time\n",
        "a = a.to(device='cuda')\n",
        "b = b.to(device='cuda')\n",
        "res = module.add_tensors_cuda(a, b).cpu()\n",
        "h,w = res.shape\n",
        "h,w,h*w"
      ],
      "metadata": {
        "id": "RjxUviJbksip",
        "colab": {
          "base_uri": "https://localhost:8080/"
        },
        "outputId": "0743e51d-4353-4e81-8fe5-068ee691be86"
      },
      "execution_count": 29,
      "outputs": [
        {
          "output_type": "stream",
          "name": "stdout",
          "text": [
            "CPU times: user 27 ms, sys: 80.5 ms, total: 108 ms\n",
            "Wall time: 162 ms\n"
          ]
        },
        {
          "output_type": "execute_result",
          "data": {
            "text/plain": [
              "(320, 320, 102400)"
            ]
          },
          "metadata": {},
          "execution_count": 29
        }
      ]
    },
    {
      "cell_type": "code",
      "source": [],
      "metadata": {
        "id": "9l8KOGfnt93e"
      },
      "execution_count": null,
      "outputs": []
    }
  ]
}