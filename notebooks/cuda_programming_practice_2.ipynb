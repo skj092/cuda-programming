{
  "nbformat": 4,
  "nbformat_minor": 0,
  "metadata": {
    "colab": {
      "provenance": [],
      "gpuType": "T4",
      "authorship_tag": "ABX9TyN8HH5lyA453R0oYgssZ6Vi",
      "include_colab_link": true
    },
    "kernelspec": {
      "name": "python3",
      "display_name": "Python 3"
    },
    "language_info": {
      "name": "python"
    },
    "accelerator": "GPU"
  },
  "cells": [
    {
      "cell_type": "markdown",
      "metadata": {
        "id": "view-in-github",
        "colab_type": "text"
      },
      "source": [
        "<a href=\"https://colab.research.google.com/github/skj092/cuda-programming/blob/main/cuda_programming_practice_2.ipynb\" target=\"_parent\"><img src=\"https://colab.research.google.com/assets/colab-badge.svg\" alt=\"Open In Colab\"/></a>"
      ]
    },
    {
      "cell_type": "code",
      "source": [
        "%pip install -q wurlitzer ninja"
      ],
      "metadata": {
        "colab": {
          "base_uri": "https://localhost:8080/"
        },
        "id": "QbIZ2u3lDi3g",
        "outputId": "9e09e0e2-3fcd-40fa-f750-e1ac39a90da4"
      },
      "execution_count": 3,
      "outputs": [
        {
          "output_type": "stream",
          "name": "stdout",
          "text": [
            "\u001b[?25l     \u001b[90m━━━━━━━━━━━━━━━━━━━━━━━━━━━━━━━━━━━━━━━━\u001b[0m \u001b[32m0.0/307.2 kB\u001b[0m \u001b[31m?\u001b[0m eta \u001b[36m-:--:--\u001b[0m\r\u001b[2K     \u001b[91m━━━━━━━━━━━━━━━━━━━━━━━━━━━━━━\u001b[0m\u001b[91m╸\u001b[0m\u001b[90m━━━━━━━━━\u001b[0m \u001b[32m235.5/307.2 kB\u001b[0m \u001b[31m6.9 MB/s\u001b[0m eta \u001b[36m0:00:01\u001b[0m\r\u001b[2K     \u001b[90m━━━━━━━━━━━━━━━━━━━━━━━━━━━━━━━━━━━━━━━━\u001b[0m \u001b[32m307.2/307.2 kB\u001b[0m \u001b[31m6.3 MB/s\u001b[0m eta \u001b[36m0:00:00\u001b[0m\n",
            "\u001b[?25h"
          ]
        }
      ]
    },
    {
      "cell_type": "code",
      "source": [
        "!mkdir tmp"
      ],
      "metadata": {
        "id": "Y2AKbtjQEEFk"
      },
      "execution_count": 8,
      "outputs": []
    },
    {
      "cell_type": "code",
      "execution_count": 9,
      "metadata": {
        "colab": {
          "base_uri": "https://localhost:8080/"
        },
        "id": "V7GQ2wJnDH9E",
        "outputId": "52e2e819-6f64-4d61-b889-a96c57cac087"
      },
      "outputs": [
        {
          "output_type": "stream",
          "name": "stderr",
          "text": [
            "The input conditions for extension module my_module have changed. Bumping to version 1 and re-building as my_module_v1...\n",
            "Emitting ninja build file ./tmp/build.ninja...\n",
            "Building extension module my_module_v1...\n",
            "Allowing ninja to set a default number of workers... (overridable by setting the environment variable MAX_JOBS=N)\n"
          ]
        },
        {
          "output_type": "stream",
          "name": "stdout",
          "text": [
            "Hello World!\n"
          ]
        },
        {
          "output_type": "stream",
          "name": "stderr",
          "text": [
            "Loading extension module my_module_v1...\n"
          ]
        }
      ],
      "source": [
        "import torch\n",
        "from torch.utils.cpp_extension import load_inline\n",
        "\n",
        "cpp_source = \"\"\"\n",
        "std::string hello_world() {\n",
        "  return \"Hello World!\";\n",
        "}\n",
        "\"\"\"\n",
        "\n",
        "my_module = load_inline(\n",
        "    name='my_module',\n",
        "    cpp_sources=[cpp_source],\n",
        "    functions=['hello_world'],\n",
        "    verbose=True,\n",
        "    build_directory='./tmp'\n",
        ")\n",
        "\n",
        "print(my_module.hello_world())"
      ]
    },
    {
      "cell_type": "code",
      "source": [
        "import torch\n",
        "from torch.utils.cpp_extension import load_inline\n",
        "\n",
        "!mkdir load_inline_cuda\n",
        "\n",
        "# Define the CUDA kernel and C++ wrapper\n",
        "cuda_source = '''\n",
        "__global__ void square_matrix_kernel(const float* matrix, float* result, int width, int height) {\n",
        "    int row = blockIdx.y * blockDim.y + threadIdx.y;\n",
        "    int col = blockIdx.x * blockDim.x + threadIdx.x;\n",
        "\n",
        "    if (row < height && col < width) {\n",
        "        int idx = row * width + col;\n",
        "        result[idx] = matrix[idx] * matrix[idx];\n",
        "    }\n",
        "}\n",
        "\n",
        "torch::Tensor square_matrix(torch::Tensor matrix) {\n",
        "    const auto height = matrix.size(0);\n",
        "    const auto width = matrix.size(1);\n",
        "\n",
        "    auto result = torch::empty_like(matrix);\n",
        "\n",
        "    dim3 threads_per_block(16, 16);\n",
        "    dim3 number_of_blocks((width + threads_per_block.x - 1) / threads_per_block.x,\n",
        "                          (height + threads_per_block.y - 1) / threads_per_block.y);\n",
        "\n",
        "    square_matrix_kernel<<<number_of_blocks, threads_per_block>>>(\n",
        "        matrix.data_ptr<float>(), result.data_ptr<float>(), width, height);\n",
        "\n",
        "    return result;\n",
        "    }\n",
        "'''\n",
        "\n",
        "cpp_source = \"torch::Tensor square_matrix(torch::Tensor matrix);\"\n",
        "\n",
        "# Load the CUDA kernel as a PyTorch extension\n",
        "square_matrix_extension = load_inline(\n",
        "    name='square_matrix_extension',\n",
        "    cpp_sources=cpp_source,\n",
        "    cuda_sources=cuda_source,\n",
        "    functions=['square_matrix'],\n",
        "    with_cuda=True,\n",
        "    extra_cuda_cflags=[\"-O2\"],\n",
        "    build_directory='./load_inline_cuda',\n",
        "    # extra_cuda_cflags=['--expt-relaxed-constexpr']\n",
        ")\n",
        "\n",
        "a = torch.tensor([[1., 2., 3.], [4., 5., 6.]], device='cuda')\n",
        "print(square_matrix_extension.square_matrix(a))"
      ],
      "metadata": {
        "colab": {
          "base_uri": "https://localhost:8080/"
        },
        "id": "ojACAg2sDRWi",
        "outputId": "817917d1-871b-47eb-fd69-470c0cb6d339"
      },
      "execution_count": 10,
      "outputs": [
        {
          "output_type": "stream",
          "name": "stderr",
          "text": [
            "/usr/local/lib/python3.10/dist-packages/torch/utils/cpp_extension.py:1967: UserWarning: TORCH_CUDA_ARCH_LIST is not set, all archs for visible cards are included for compilation. \n",
            "If this is not desired, please set os.environ['TORCH_CUDA_ARCH_LIST'].\n",
            "  warnings.warn(\n"
          ]
        },
        {
          "output_type": "stream",
          "name": "stdout",
          "text": [
            "tensor([[ 1.,  4.,  9.],\n",
            "        [16., 25., 36.]], device='cuda:0')\n"
          ]
        }
      ]
    },
    {
      "cell_type": "code",
      "source": [
        "src = '''\n",
        "#include <c10/cuda/CUDAException.h>\n",
        "#include <c10/cuda/CUDAStream.h>\n",
        "\n",
        "\n",
        "__global__\n",
        "void mean_filter_kernel(unsigned char* output, unsigned char* input, int width, int height, int radius) {\n",
        "    int col = blockIdx.x * blockDim.x + threadIdx.x;\n",
        "    int row = blockIdx.y * blockDim.y + threadIdx.y;\n",
        "    int channel = threadIdx.z;\n",
        "\n",
        "    int baseOffset = channel * height * width;\n",
        "    if (col < width && row < height) {\n",
        "\n",
        "        int pixVal = 0;\n",
        "        int pixels = 0;\n",
        "\n",
        "        for (int blurRow=-radius; blurRow <= radius; blurRow += 1) {\n",
        "            for (int blurCol=-radius; blurCol <= radius; blurCol += 1) {\n",
        "                int curRow = row + blurRow;\n",
        "                int curCol = col + blurCol;\n",
        "                if (curRow >= 0 && curRow < height && curCol >=0 && curCol < width) {\n",
        "                    pixVal += input[baseOffset + curRow * width + curCol];\n",
        "                    pixels += 1;\n",
        "                }\n",
        "            }\n",
        "        }\n",
        "\n",
        "        output[baseOffset + row * width + col] = (unsigned char)(pixVal / pixels);\n",
        "    }\n",
        "}\n",
        "\n",
        "\n",
        "// helper function for ceiling unsigned integer division\n",
        "inline unsigned int cdiv(unsigned int a, unsigned int b) {\n",
        "  return (a + b - 1) / b;\n",
        "}\n",
        "\n",
        "\n",
        "torch::Tensor mean_filter(torch::Tensor image, int radius) {\n",
        "    assert(image.device().type() == torch::kCUDA);\n",
        "    assert(image.dtype() == torch::kByte);\n",
        "    assert(radius > 0);\n",
        "\n",
        "    const auto channels = image.size(0);\n",
        "    const auto height = image.size(1);\n",
        "    const auto width = image.size(2);\n",
        "\n",
        "    auto result = torch::empty_like(image);\n",
        "\n",
        "    dim3 threads_per_block(16, 16, channels);\n",
        "    dim3 number_of_blocks(\n",
        "        cdiv(width, threads_per_block.x),\n",
        "        cdiv(height, threads_per_block.y)\n",
        "    );\n",
        "\n",
        "    mean_filter_kernel<<<number_of_blocks, threads_per_block, 0, torch::cuda::getCurrentCUDAStream()>>>(\n",
        "        result.data_ptr<unsigned char>(),\n",
        "        image.data_ptr<unsigned char>(),\n",
        "        width,\n",
        "        height,\n",
        "        radius\n",
        "    );\n",
        "\n",
        "    // check CUDA error status (calls cudaGetLastError())\n",
        "    C10_CUDA_KERNEL_LAUNCH_CHECK();\n",
        "\n",
        "    return result;\n",
        "}\n",
        "'''"
      ],
      "metadata": {
        "id": "HVrzKJylFmbp"
      },
      "execution_count": 11,
      "outputs": []
    },
    {
      "cell_type": "code",
      "source": [
        "from pathlib import Path\n",
        "import torch\n",
        "from torchvision.io import read_image, write_png\n",
        "from torch.utils.cpp_extension import load_inline\n",
        "\n",
        "\n",
        "def compile_extension():\n",
        "    # cuda_source = Path(\"mean_filter_kernel.cu\").read_text()\n",
        "    cuda_source = src\n",
        "    cpp_source = \"torch::Tensor mean_filter(torch::Tensor image, int radius);\"\n",
        "\n",
        "    # Load the CUDA kernel as a PyTorch extension\n",
        "    rgb_to_grayscale_extension = load_inline(\n",
        "        name=\"mean_filter_extension\",\n",
        "        cpp_sources=cpp_source,\n",
        "        cuda_sources=cuda_source,\n",
        "        functions=[\"mean_filter\"],\n",
        "        with_cuda=True,\n",
        "        extra_cuda_cflags=[\"-O2\"],\n",
        "        # build_directory='./cuda_build',\n",
        "    )\n",
        "    return rgb_to_grayscale_extension\n",
        "\n",
        "\n",
        "def main():\n",
        "    \"\"\"\n",
        "    Use torch cpp inline extension function to compile the kernel in mean_filter_kernel.cu.\n",
        "    Read input image, convert apply mean filter custom cuda kernel and write result out into output.png.\n",
        "    \"\"\"\n",
        "    ext = compile_extension()\n",
        "\n",
        "    x = read_image(\"Grace_Hopper.jpg\").contiguous().cuda()\n",
        "    assert x.dtype == torch.uint8\n",
        "    print(\"Input image:\", x.shape, x.dtype)\n",
        "\n",
        "    y = ext.mean_filter(x, 8)\n",
        "\n",
        "    print(\"Output image:\", y.shape, y.dtype)\n",
        "    write_png(y.cpu(), \"output.png\")\n",
        "\n",
        "\n",
        "if __name__ == \"__main__\":\n",
        "    main()\n"
      ],
      "metadata": {
        "colab": {
          "base_uri": "https://localhost:8080/"
        },
        "id": "RNiSkPL0EhgK",
        "outputId": "77b103e3-dff5-4f42-d971-3a35f918d8c1"
      },
      "execution_count": 13,
      "outputs": [
        {
          "output_type": "stream",
          "name": "stdout",
          "text": [
            "Input image: torch.Size([3, 606, 517]) torch.uint8\n",
            "Output image: torch.Size([3, 606, 517]) torch.uint8\n"
          ]
        }
      ]
    },
    {
      "cell_type": "code",
      "source": [],
      "metadata": {
        "id": "nSrmU5aOFuQO"
      },
      "execution_count": null,
      "outputs": []
    }
  ]
}